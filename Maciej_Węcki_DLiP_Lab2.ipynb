{
  "nbformat": 4,
  "nbformat_minor": 0,
  "metadata": {
    "colab": {
      "provenance": []
    },
    "kernelspec": {
      "name": "python3",
      "display_name": "Python 3"
    },
    "language_info": {
      "name": "python"
    }
  },
  "cells": [
    {
      "cell_type": "code",
      "execution_count": 115,
      "metadata": {
        "id": "HeX0wHhw0fML"
      },
      "outputs": [],
      "source": [
        "#!wget http://www.kasprowski.pl/datasets/emvic.zip"
      ]
    },
    {
      "cell_type": "code",
      "source": [
        "import pandas as pd\n",
        "import numpy as np\n",
        "import matplotlib.pyplot as plt\n",
        "import sklearn\n",
        "from sklearn.preprocessing import LabelEncoder\n",
        "import random\n",
        "from sklearn.feature_selection import RFE,SelectFromModel\n",
        "from sklearn.feature_selection import SelectKBest, f_classif,chi2,f_regression\n",
        "from sklearn.metrics import classification_report, confusion_matrix, accuracy_score,cohen_kappa_score\n",
        "from sklearn.metrics import mean_squared_error, r2_score\n",
        "from sklearn.neighbors import KNeighborsClassifier\n",
        "from sklearn.discriminant_analysis import LinearDiscriminantAnalysis\n",
        "from sklearn.naive_bayes import GaussianNB\n",
        "from sklearn.tree import DecisionTreeClassifier\n",
        "from sklearn.ensemble import RandomForestClassifier\n",
        "from sklearn import svm\n",
        "from sklearn.ensemble import GradientBoostingClassifier\n",
        "from sklearn.linear_model import LogisticRegression\n",
        "from sklearn.svm import SVC\n",
        "from sklearn.neural_network import MLPClassifier\n",
        "from sklearn.cluster import KMeans\n",
        "from sklearn.naive_bayes import MultinomialNB"
      ],
      "metadata": {
        "id": "0_9GeDGXIX7E"
      },
      "execution_count": 116,
      "outputs": []
    },
    {
      "cell_type": "code",
      "source": [
        "data = pd.read_csv(\"emvic.data\",sep=\"\\t\", header = None)\n",
        "data\n",
        "\n",
        "const_values = data.columns[data.nunique() == 1]\n",
        "data.drop(columns=const_values, inplace=True)"
      ],
      "metadata": {
        "id": "hdd533XIIcnI"
      },
      "execution_count": 117,
      "outputs": []
    },
    {
      "cell_type": "code",
      "source": [
        "#data.values[0:2,1000:1200]\n",
        "samples = data.values[:,1:]\n",
        "labels = data.values[:,0]\n",
        "\n",
        "\n",
        "plt.hist(labels,bins=20)\n",
        "plt.show()"
      ],
      "metadata": {
        "colab": {
          "base_uri": "https://localhost:8080/",
          "height": 430
        },
        "id": "vy94fsMtO2FU",
        "outputId": "4d76d865-2e41-4064-ab51-495e844818e9"
      },
      "execution_count": 118,
      "outputs": [
        {
          "output_type": "display_data",
          "data": {
            "text/plain": [
              "<Figure size 640x480 with 1 Axes>"
            ],
            "image/png": "[encoded data removed]"
          },
          "metadata": {}
        }
      ]
    },
    {
      "cell_type": "code",
      "source": [
        "# datanp = np.array(data)\n",
        "\n",
        "# datanp\n",
        "# a25 = datanp[datanp[:, 0] == \"a25\", 1:]\n",
        "# a25\n",
        "\n",
        "# a250 = a25[a25!=0]\n",
        "# plt.hist(a250,bins=100)\n",
        "# plt.show()"
      ],
      "metadata": {
        "id": "Q4oGIK6yMAcT"
      },
      "execution_count": 119,
      "outputs": []
    },
    {
      "cell_type": "code",
      "source": [
        "label_encoder = LabelEncoder()\n",
        "labels_encoded = label_encoder.fit_transform(labels)\n"
      ],
      "metadata": {
        "id": "GdzTyIgaasIc"
      },
      "execution_count": 120,
      "outputs": []
    },
    {
      "cell_type": "code",
      "source": [
        "def RPredict(samples,labels_encoded):\n",
        "\n",
        "  for n in range(10):\n",
        "      i = random.randrange(len(labels_encoded))\n",
        "      predicted = model.predict(samples[i].reshape(1,-1))\n",
        "      print(n,\" predicted\",predicted[0], \"real\",labels_encoded[i], end=' ')\n",
        "      if(predicted[0]==labels_encoded[i]):\n",
        "          print(\"correct\")\n",
        "      else:\n",
        "          print(\"wrong\")"
      ],
      "metadata": {
        "id": "QB6TVUc9Kp6C"
      },
      "execution_count": 121,
      "outputs": []
    },
    {
      "cell_type": "code",
      "source": [
        "def dataSplit(samples,labels):\n",
        "  # train-test split\n",
        "  (trainSamples, testSamples, trainLabels, testLabels) = sklearn.model_selection.train_test_split(samples, labels, stratify=labels,random_state=1)\n",
        "  model.fit(trainSamples, trainLabels)\n",
        "\n",
        "  correct = 0;\n",
        "  predictedLabels = model.predict(testSamples)\n",
        "  for i in range(len(testSamples)):\n",
        "      #print(\"real:\",testLabels[i],\"predicted:\",predictedLabels[i])\n",
        "      if(testLabels[i]==predictedLabels[i]):\n",
        "          correct = correct + 1\n",
        "  print(\"Correct:\",correct,\" of \",len(testSamples),\" accuracy=\",correct/len(testSamples))\n",
        "\n",
        "  return testSamples,testLabels"
      ],
      "metadata": {
        "id": "1w68pulYKxkT"
      },
      "execution_count": 122,
      "outputs": []
    },
    {
      "cell_type": "code",
      "source": [
        "def calRatings(testSamples,testLabels):\n",
        "\n",
        "  modelResults = model.predict(testSamples)\n",
        "  print(confusion_matrix(testLabels, modelResults))\n",
        "  print(classification_report(testLabels, modelResults))\n",
        "  accuracy = accuracy_score(testLabels, modelResults)\n",
        "  print(\"Accuracy: {:.2f}\".format(accuracy))\n",
        "  print(\"Cohen's Kappa: {:.2f}\".format(cohen_kappa_score(testLabels, modelResults)))\n",
        "  return testLabels, modelResults"
      ],
      "metadata": {
        "id": "0j4Nj6ztK2Vr"
      },
      "execution_count": 123,
      "outputs": []
    },
    {
      "cell_type": "code",
      "source": [
        "def testLabelEncoder(testLabels,modelResults):\n",
        "  test_label_encoder = LabelEncoder()\n",
        "  test_labels_encoded = test_label_encoder.fit_transform(testLabels)\n",
        "  test_labels_encoded\n",
        "\n",
        "  test_modelResults_encoder = LabelEncoder()\n",
        "  test_modelResults_encoded = test_modelResults_encoder.fit_transform(modelResults)\n",
        "  test_modelResults_encoded\n",
        "\n",
        "  return test_labels_encoded, test_modelResults_encoded"
      ],
      "metadata": {
        "id": "7yWERDpHK8LH"
      },
      "execution_count": 124,
      "outputs": []
    },
    {
      "cell_type": "code",
      "source": [
        "def MSER2(test_labels_encoded, test_modelResults_encoded):\n",
        "  print('MSE=',mean_squared_error(test_labels_encoded, test_modelResults_encoded))\n",
        "  print('R2=',r2_score(test_labels_encoded, test_modelResults_encoded),\"\\n\")"
      ],
      "metadata": {
        "id": "g0gEVCUTLBb9"
      },
      "execution_count": 125,
      "outputs": []
    },
    {
      "cell_type": "code",
      "source": [
        "def Classification(samples, labels_encoded):\n",
        "\n",
        "  RPredict(samples,labels_encoded)\n",
        "  testSamples, testLabels = dataSplit(samples, labels)\n",
        "  testLabels, modelResults = calRatings(testSamples, testLabels)\n",
        "  test_labels_encoded, test_modelResults_encoded =  testLabelEncoder(testLabels, modelResults)\n",
        "  MSER2(test_labels_encoded,test_modelResults_encoded)"
      ],
      "metadata": {
        "id": "dacnNNxEkYJ4"
      },
      "execution_count": 126,
      "outputs": []
    },
    {
      "cell_type": "code",
      "source": [
        "print(samples)"
      ],
      "metadata": {
        "colab": {
          "base_uri": "https://localhost:8080/"
        },
        "id": "C7iZIeZmah_4",
        "outputId": "4ca5edd5-d869-452b-8e9d-96d933800418"
      },
      "execution_count": 127,
      "outputs": [
        {
          "output_type": "stream",
          "name": "stdout",
          "text": [
            "[[0 0 0 ... -19 -22 -23]\n",
            " [0 0 0 ... -67 -67 -70]\n",
            " [0 0 0 ... -53 -52 -54]\n",
            " ...\n",
            " [0 0 0 ... 229 227 226]\n",
            " [0 0 0 ... 446 445 445]\n",
            " [0 0 0 ... 575 577 578]]\n"
          ]
        }
      ]
    },
    {
      "cell_type": "code",
      "source": [
        "#--------------------1--------------------#\n",
        "model = KNeighborsClassifier()\n",
        "model.fit(samples, labels_encoded)\n",
        "Classification(samples, labels_encoded)\n"
      ],
      "metadata": {
        "colab": {
          "base_uri": "https://localhost:8080/"
        },
        "id": "BbCAcNh8CyUs",
        "outputId": "d2e0f660-837e-4723-e22b-43b24c3cedd9"
      },
      "execution_count": 128,
      "outputs": [
        {
          "output_type": "stream",
          "name": "stdout",
          "text": [
            "0  predicted 0 real 0 correct\n",
            "1  predicted 0 real 0 correct\n",
            "2  predicted 4 real 4 correct\n",
            "3  predicted 0 real 0 correct\n",
            "4  predicted 5 real 5 correct\n",
            "5  predicted 4 real 4 correct\n",
            "6  predicted 0 real 7 wrong\n",
            "7  predicted 0 real 0 correct\n",
            "8  predicted 0 real 0 correct\n",
            "9  predicted 3 real 3 correct\n",
            "Correct: 57  of  104  accuracy= 0.5480769230769231\n",
            "[[22  0  0  1  0  1  0  2]\n",
            " [ 0  3  3  0  1  1  0  0]\n",
            " [ 0  0  9  0  0  0  0  0]\n",
            " [ 1  0  1  5  1  0  0  4]\n",
            " [ 1  1  3  2  7  0  1  1]\n",
            " [ 2  0  0  1  0  8  0  2]\n",
            " [ 0  3  1  1  2  0  2  1]\n",
            " [ 2  2  1  1  2  0  1  1]]\n",
            "              precision    recall  f1-score   support\n",
            "\n",
            "         a25       0.79      0.85      0.81        26\n",
            "         a28       0.33      0.38      0.35         8\n",
            "         a29       0.50      1.00      0.67         9\n",
            "         a32       0.45      0.42      0.43        12\n",
            "         a37       0.54      0.44      0.48        16\n",
            "         a40       0.80      0.62      0.70        13\n",
            "         a41       0.50      0.20      0.29        10\n",
            "         a42       0.09      0.10      0.10        10\n",
            "\n",
            "    accuracy                           0.55       104\n",
            "   macro avg       0.50      0.50      0.48       104\n",
            "weighted avg       0.56      0.55      0.54       104\n",
            "\n",
            "Accuracy: 0.55\n",
            "Cohen's Kappa: 0.47\n",
            "MSE= 6.615384615384615\n",
            "R2= -0.16172817457096 \n",
            "\n"
          ]
        }
      ]
    },
    {
      "cell_type": "code",
      "source": [
        "#--------------------2--------------------#\n",
        "# TOP 3 CLASSIFAIER\n",
        "model = LinearDiscriminantAnalysis()\n",
        "model.fit(samples, labels_encoded)\n",
        "Classification(samples, labels_encoded)\n",
        "sklearn.model_selection.cross_validate(model, samples, labels_encoded, cv=10)"
      ],
      "metadata": {
        "colab": {
          "base_uri": "https://localhost:8080/"
        },
        "id": "WUzOJ5iiESzf",
        "outputId": "4cc18c19-c1fc-4989-913c-0691527e56f7"
      },
      "execution_count": 129,
      "outputs": [
        {
          "output_type": "stream",
          "name": "stdout",
          "text": [
            "0  predicted 2 real 2 correct\n",
            "1  predicted 1 real 1 correct\n",
            "2  predicted 5 real 5 correct\n",
            "3  predicted 0 real 0 correct\n",
            "4  predicted 7 real 7 correct\n",
            "5  predicted 0 real 0 correct\n",
            "6  predicted 2 real 2 correct\n",
            "7  predicted 3 real 3 correct\n",
            "8  predicted 0 real 0 correct\n",
            "9  predicted 1 real 1 correct\n",
            "Correct: 94  of  104  accuracy= 0.9038461538461539\n",
            "[[26  0  0  0  0  0  0  0]\n",
            " [ 0  6  2  0  0  0  0  0]\n",
            " [ 0  0  9  0  0  0  0  0]\n",
            " [ 0  0  0 12  0  0  0  0]\n",
            " [ 0  0  1  0 13  0  1  1]\n",
            " [ 0  0  0  0  1 11  1  0]\n",
            " [ 1  1  0  0  0  0  8  0]\n",
            " [ 0  1  0  0  0  0  0  9]]\n",
            "              precision    recall  f1-score   support\n",
            "\n",
            "         a25       0.96      1.00      0.98        26\n",
            "         a28       0.75      0.75      0.75         8\n",
            "         a29       0.75      1.00      0.86         9\n",
            "         a32       1.00      1.00      1.00        12\n",
            "         a37       0.93      0.81      0.87        16\n",
            "         a40       1.00      0.85      0.92        13\n",
            "         a41       0.80      0.80      0.80        10\n",
            "         a42       0.90      0.90      0.90        10\n",
            "\n",
            "    accuracy                           0.90       104\n",
            "   macro avg       0.89      0.89      0.88       104\n",
            "weighted avg       0.91      0.90      0.90       104\n",
            "\n",
            "Accuracy: 0.90\n",
            "Cohen's Kappa: 0.89\n",
            "MSE= 1.1346153846153846\n",
            "R2= 0.8007501095939342 \n",
            "\n"
          ]
        },
        {
          "output_type": "execute_result",
          "data": {
            "text/plain": [
              "{'fit_time': array([2.10438704, 1.44384241, 2.20352578, 2.75827384, 1.4635632 ,\n",
              "        2.19127941, 2.65758967, 1.59120655, 1.43760204, 1.45630193]),\n",
              " 'score_time': array([0.0580411 , 0.06602454, 0.11521029, 0.10017109, 0.05097747,\n",
              "        0.1160233 , 0.09512687, 0.07142115, 0.04917645, 0.04863071]),\n",
              " 'test_score': array([0.85714286, 0.95238095, 0.88095238, 0.92857143, 0.97619048,\n",
              "        0.85714286, 0.7804878 , 0.87804878, 0.92682927, 0.85365854])}"
            ]
          },
          "metadata": {},
          "execution_count": 129
        }
      ]
    },
    {
      "cell_type": "code",
      "source": [
        "#--------------------2.5--------------------#\n",
        "# TOP 3 CLASSIFAIER\n",
        "\n",
        "for i in range (1,11):\n",
        "\n",
        "  Knumber = i*800\n",
        "  print(\"Number of samples = \", Knumber, \"\\n\")\n",
        "  BS = SelectKBest(score_func=f_classif, k = Knumber)\n",
        "  BS_samples = BS.fit_transform(samples, labels_encoded)\n",
        "\n",
        "  model = LinearDiscriminantAnalysis()\n",
        "  model.fit(BS_samples, labels_encoded)\n",
        "  Classification(BS_samples, labels_encoded)\n",
        "  sklearn.model_selection.cross_validate(model, BS_samples, labels_encoded, cv=10)\n",
        "\n"
      ],
      "metadata": {
        "colab": {
          "base_uri": "https://localhost:8080/"
        },
        "id": "QMgwBU93hKUS",
        "outputId": "be4d33e9-a4e4-4638-9aa1-8bac0562cba2"
      },
      "execution_count": 130,
      "outputs": [
        {
          "output_type": "stream",
          "name": "stdout",
          "text": [
            "Number of samples =  800 \n",
            "\n",
            "0  predicted 3 real 3 correct\n",
            "1  predicted 5 real 5 correct\n",
            "2  predicted 6 real 6 correct\n",
            "3  predicted 2 real 2 correct\n",
            "4  predicted 0 real 0 correct\n",
            "5  predicted 1 real 1 correct\n",
            "6  predicted 1 real 1 correct\n",
            "7  predicted 0 real 0 correct\n",
            "8  predicted 3 real 3 correct\n",
            "9  predicted 5 real 5 correct\n",
            "Correct: 62  of  104  accuracy= 0.5961538461538461\n",
            "[[21  0  0  3  2  0  0  0]\n",
            " [ 1  4  2  0  0  0  0  1]\n",
            " [ 0  0  6  0  2  0  1  0]\n",
            " [ 3  2  0  7  0  0  0  0]\n",
            " [ 0  0  1  6  9  0  0  0]\n",
            " [ 0  2  0  1  1  9  0  0]\n",
            " [ 1  1  0  1  2  0  5  0]\n",
            " [ 2  2  0  4  1  0  0  1]]\n",
            "              precision    recall  f1-score   support\n",
            "\n",
            "         a25       0.75      0.81      0.78        26\n",
            "         a28       0.36      0.50      0.42         8\n",
            "         a29       0.67      0.67      0.67         9\n",
            "         a32       0.32      0.58      0.41        12\n",
            "         a37       0.53      0.56      0.55        16\n",
            "         a40       1.00      0.69      0.82        13\n",
            "         a41       0.83      0.50      0.62        10\n",
            "         a42       0.50      0.10      0.17        10\n",
            "\n",
            "    accuracy                           0.60       104\n",
            "   macro avg       0.62      0.55      0.55       104\n",
            "weighted avg       0.64      0.60      0.59       104\n",
            "\n",
            "Accuracy: 0.60\n",
            "Cohen's Kappa: 0.52\n",
            "MSE= 5.048076923076923\n",
            "R2= 0.1135068435323342 \n",
            "\n",
            "Number of samples =  1600 \n",
            "\n",
            "0  predicted 4 real 4 correct\n",
            "1  predicted 0 real 0 correct\n",
            "2  predicted 0 real 0 correct\n",
            "3  predicted 2 real 2 correct\n",
            "4  predicted 6 real 6 correct\n",
            "5  predicted 6 real 6 correct\n",
            "6  predicted 3 real 3 correct\n",
            "7  predicted 0 real 0 correct\n",
            "8  predicted 0 real 0 correct\n",
            "9  predicted 0 real 0 correct\n",
            "Correct: 66  of  104  accuracy= 0.6346153846153846\n",
            "[[22  1  0  2  0  0  1  0]\n",
            " [ 1  6  0  0  0  0  0  1]\n",
            " [ 0  0  8  1  0  0  0  0]\n",
            " [ 3  0  0  6  3  0  0  0]\n",
            " [ 3  0  1  2 10  0  0  0]\n",
            " [ 0  1  0  3  0  8  1  0]\n",
            " [ 1  2  0  0  1  1  5  0]\n",
            " [ 1  3  0  1  2  0  2  1]]\n",
            "              precision    recall  f1-score   support\n",
            "\n",
            "         a25       0.71      0.85      0.77        26\n",
            "         a28       0.46      0.75      0.57         8\n",
            "         a29       0.89      0.89      0.89         9\n",
            "         a32       0.40      0.50      0.44        12\n",
            "         a37       0.62      0.62      0.62        16\n",
            "         a40       0.89      0.62      0.73        13\n",
            "         a41       0.56      0.50      0.53        10\n",
            "         a42       0.50      0.10      0.17        10\n",
            "\n",
            "    accuracy                           0.63       104\n",
            "   macro avg       0.63      0.60      0.59       104\n",
            "weighted avg       0.64      0.63      0.62       104\n",
            "\n",
            "Accuracy: 0.63\n",
            "Cohen's Kappa: 0.57\n",
            "MSE= 4.711538461538462\n",
            "R2= 0.1726063872968453 \n",
            "\n",
            "Number of samples =  2400 \n",
            "\n",
            "0  predicted 1 real 1 correct\n",
            "1  predicted 1 real 1 correct\n",
            "2  predicted 1 real 1 correct\n",
            "3  predicted 4 real 4 correct\n",
            "4  predicted 4 real 4 correct\n",
            "5  predicted 7 real 7 correct\n",
            "6  predicted 0 real 0 correct\n",
            "7  predicted 3 real 3 correct\n",
            "8  predicted 6 real 6 correct\n",
            "9  predicted 2 real 2 correct\n",
            "Correct: 81  of  104  accuracy= 0.7788461538461539\n",
            "[[23  1  0  0  0  1  1  0]\n",
            " [ 1  7  0  0  0  0  0  0]\n",
            " [ 0  0  8  1  0  0  0  0]\n",
            " [ 0  0  0  9  1  0  2  0]\n",
            " [ 1  0  1  0 13  0  0  1]\n",
            " [ 1  1  0  0  1  8  1  1]\n",
            " [ 1  1  0  0  0  1  7  0]\n",
            " [ 1  0  0  1  2  0  0  6]]\n",
            "              precision    recall  f1-score   support\n",
            "\n",
            "         a25       0.82      0.88      0.85        26\n",
            "         a28       0.70      0.88      0.78         8\n",
            "         a29       0.89      0.89      0.89         9\n",
            "         a32       0.82      0.75      0.78        12\n",
            "         a37       0.76      0.81      0.79        16\n",
            "         a40       0.80      0.62      0.70        13\n",
            "         a41       0.64      0.70      0.67        10\n",
            "         a42       0.75      0.60      0.67        10\n",
            "\n",
            "    accuracy                           0.78       104\n",
            "   macro avg       0.77      0.77      0.76       104\n",
            "weighted avg       0.78      0.78      0.78       104\n",
            "\n",
            "Accuracy: 0.78\n",
            "Cohen's Kappa: 0.74\n",
            "MSE= 2.923076923076923\n",
            "R2= 0.48667824844538976 \n",
            "\n",
            "Number of samples =  3200 \n",
            "\n",
            "0  predicted 5 real 5 correct\n",
            "1  predicted 2 real 2 correct\n",
            "2  predicted 7 real 7 correct\n",
            "3  predicted 0 real 0 correct\n",
            "4  predicted 7 real 7 correct\n",
            "5  predicted 4 real 4 correct\n",
            "6  predicted 3 real 3 correct\n",
            "7  predicted 5 real 5 correct\n",
            "8  predicted 0 real 0 correct\n",
            "9  predicted 0 real 0 correct\n",
            "Correct: 80  of  104  accuracy= 0.7692307692307693\n",
            "[[24  0  0  2  0  0  0  0]\n",
            " [ 1  5  2  0  0  0  0  0]\n",
            " [ 0  0  8  0  1  0  0  0]\n",
            " [ 1  0  0  9  0  0  2  0]\n",
            " [ 1  0  1  0 12  0  0  2]\n",
            " [ 0  1  1  1  0  9  1  0]\n",
            " [ 1  0  0  1  1  0  6  1]\n",
            " [ 2  0  0  0  1  0  0  7]]\n",
            "              precision    recall  f1-score   support\n",
            "\n",
            "         a25       0.80      0.92      0.86        26\n",
            "         a28       0.83      0.62      0.71         8\n",
            "         a29       0.67      0.89      0.76         9\n",
            "         a32       0.69      0.75      0.72        12\n",
            "         a37       0.80      0.75      0.77        16\n",
            "         a40       1.00      0.69      0.82        13\n",
            "         a41       0.67      0.60      0.63        10\n",
            "         a42       0.70      0.70      0.70        10\n",
            "\n",
            "    accuracy                           0.77       104\n",
            "   macro avg       0.77      0.74      0.75       104\n",
            "weighted avg       0.78      0.77      0.77       104\n",
            "\n",
            "Accuracy: 0.77\n",
            "Cohen's Kappa: 0.73\n",
            "MSE= 2.6634615384615383\n",
            "R2= 0.5322693250637268 \n",
            "\n",
            "Number of samples =  4000 \n",
            "\n",
            "0  predicted 4 real 4 correct\n",
            "1  predicted 0 real 0 correct\n",
            "2  predicted 7 real 7 correct\n",
            "3  predicted 4 real 4 correct\n",
            "4  predicted 0 real 0 correct\n",
            "5  predicted 7 real 7 correct\n",
            "6  predicted 0 real 0 correct\n",
            "7  predicted 6 real 6 correct\n",
            "8  predicted 1 real 1 correct\n",
            "9  predicted 5 real 5 correct\n",
            "Correct: 86  of  104  accuracy= 0.8269230769230769\n",
            "[[22  0  0  2  0  0  2  0]\n",
            " [ 0  7  1  0  0  0  0  0]\n",
            " [ 0  0  8  0  1  0  0  0]\n",
            " [ 1  0  0 11  0  0  0  0]\n",
            " [ 3  0  1  0 12  0  0  0]\n",
            " [ 1  0  0  0  0 11  1  0]\n",
            " [ 2  1  0  0  0  0  7  0]\n",
            " [ 1  0  0  0  1  0  0  8]]\n",
            "              precision    recall  f1-score   support\n",
            "\n",
            "         a25       0.73      0.85      0.79        26\n",
            "         a28       0.88      0.88      0.88         8\n",
            "         a29       0.80      0.89      0.84         9\n",
            "         a32       0.85      0.92      0.88        12\n",
            "         a37       0.86      0.75      0.80        16\n",
            "         a40       1.00      0.85      0.92        13\n",
            "         a41       0.70      0.70      0.70        10\n",
            "         a42       1.00      0.80      0.89        10\n",
            "\n",
            "    accuracy                           0.83       104\n",
            "   macro avg       0.85      0.83      0.84       104\n",
            "weighted avg       0.84      0.83      0.83       104\n",
            "\n",
            "Accuracy: 0.83\n",
            "Cohen's Kappa: 0.80\n",
            "MSE= 3.2403846153846154\n",
            "R2= 0.4309558214674222 \n",
            "\n",
            "Number of samples =  4800 \n",
            "\n",
            "0  predicted 7 real 7 correct\n",
            "1  predicted 2 real 2 correct\n",
            "2  predicted 2 real 2 correct\n",
            "3  predicted 5 real 5 correct\n",
            "4  predicted 2 real 2 correct\n",
            "5  predicted 5 real 5 correct\n",
            "6  predicted 2 real 2 correct\n",
            "7  predicted 6 real 6 correct\n",
            "8  predicted 6 real 6 correct\n",
            "9  predicted 7 real 7 correct\n",
            "Correct: 84  of  104  accuracy= 0.8076923076923077\n",
            "[[23  0  0  1  0  1  1  0]\n",
            " [ 0  5  2  0  1  0  0  0]\n",
            " [ 0  0  8  0  1  0  0  0]\n",
            " [ 2  0  0  9  0  0  1  0]\n",
            " [ 2  0  1  0 12  0  0  1]\n",
            " [ 0  0  0  0  0 12  1  0]\n",
            " [ 1  0  0  0  2  0  7  0]\n",
            " [ 1  0  0  0  1  0  0  8]]\n",
            "              precision    recall  f1-score   support\n",
            "\n",
            "         a25       0.79      0.88      0.84        26\n",
            "         a28       1.00      0.62      0.77         8\n",
            "         a29       0.73      0.89      0.80         9\n",
            "         a32       0.90      0.75      0.82        12\n",
            "         a37       0.71      0.75      0.73        16\n",
            "         a40       0.92      0.92      0.92        13\n",
            "         a41       0.70      0.70      0.70        10\n",
            "         a42       0.89      0.80      0.84        10\n",
            "\n",
            "    accuracy                           0.81       104\n",
            "   macro avg       0.83      0.79      0.80       104\n",
            "weighted avg       0.82      0.81      0.81       104\n",
            "\n",
            "Accuracy: 0.81\n",
            "Cohen's Kappa: 0.77\n",
            "MSE= 2.5\n",
            "R2= 0.5609748177493465 \n",
            "\n",
            "Number of samples =  5600 \n",
            "\n",
            "0  predicted 0 real 0 correct\n",
            "1  predicted 3 real 3 correct\n",
            "2  predicted 7 real 7 correct\n",
            "3  predicted 7 real 7 correct\n",
            "4  predicted 0 real 0 correct\n",
            "5  predicted 4 real 4 correct\n",
            "6  predicted 4 real 4 correct\n",
            "7  predicted 4 real 4 correct\n",
            "8  predicted 7 real 7 correct\n",
            "9  predicted 1 real 1 correct\n",
            "Correct: 89  of  104  accuracy= 0.8557692307692307\n",
            "[[23  1  0  1  0  0  1  0]\n",
            " [ 0  6  2  0  0  0  0  0]\n",
            " [ 0  0  8  0  1  0  0  0]\n",
            " [ 1  0  0  9  1  0  1  0]\n",
            " [ 1  1  1  0 13  0  0  0]\n",
            " [ 0  0  0  0  0 12  1  0]\n",
            " [ 1  0  0  0  1  0  8  0]\n",
            " [ 0  0  0  0  0  0  0 10]]\n",
            "              precision    recall  f1-score   support\n",
            "\n",
            "         a25       0.88      0.88      0.88        26\n",
            "         a28       0.75      0.75      0.75         8\n",
            "         a29       0.73      0.89      0.80         9\n",
            "         a32       0.90      0.75      0.82        12\n",
            "         a37       0.81      0.81      0.81        16\n",
            "         a40       1.00      0.92      0.96        13\n",
            "         a41       0.73      0.80      0.76        10\n",
            "         a42       1.00      1.00      1.00        10\n",
            "\n",
            "    accuracy                           0.86       104\n",
            "   macro avg       0.85      0.85      0.85       104\n",
            "weighted avg       0.86      0.86      0.86       104\n",
            "\n",
            "Accuracy: 0.86\n",
            "Cohen's Kappa: 0.83\n",
            "MSE= 1.3557692307692308\n",
            "R2= 0.7619132665486841 \n",
            "\n",
            "Number of samples =  6400 \n",
            "\n",
            "0  predicted 0 real 0 correct\n",
            "1  predicted 0 real 0 correct\n",
            "2  predicted 6 real 6 correct\n",
            "3  predicted 6 real 6 correct\n",
            "4  predicted 5 real 5 correct\n",
            "5  predicted 7 real 7 correct\n",
            "6  predicted 4 real 4 correct\n",
            "7  predicted 6 real 6 correct\n",
            "8  predicted 4 real 4 correct\n",
            "9  predicted 0 real 0 correct\n",
            "Correct: 88  of  104  accuracy= 0.8461538461538461\n",
            "[[25  1  0  0  0  0  0  0]\n",
            " [ 0  6  2  0  0  0  0  0]\n",
            " [ 0  0  8  0  1  0  0  0]\n",
            " [ 1  0  0  9  1  0  1  0]\n",
            " [ 1  0  1  1 11  0  1  1]\n",
            " [ 0  0  0  0  0 12  1  0]\n",
            " [ 1  1  0  0  0  0  8  0]\n",
            " [ 0  1  0  0  0  0  0  9]]\n",
            "              precision    recall  f1-score   support\n",
            "\n",
            "         a25       0.89      0.96      0.93        26\n",
            "         a28       0.67      0.75      0.71         8\n",
            "         a29       0.73      0.89      0.80         9\n",
            "         a32       0.90      0.75      0.82        12\n",
            "         a37       0.85      0.69      0.76        16\n",
            "         a40       1.00      0.92      0.96        13\n",
            "         a41       0.73      0.80      0.76        10\n",
            "         a42       0.90      0.90      0.90        10\n",
            "\n",
            "    accuracy                           0.85       104\n",
            "   macro avg       0.83      0.83      0.83       104\n",
            "weighted avg       0.85      0.85      0.85       104\n",
            "\n",
            "Accuracy: 0.85\n",
            "Cohen's Kappa: 0.82\n",
            "MSE= 1.5192307692307692\n",
            "R2= 0.7332077738630645 \n",
            "\n",
            "Number of samples =  7200 \n",
            "\n",
            "0  predicted 5 real 5 correct\n",
            "1  predicted 0 real 0 correct\n",
            "2  predicted 3 real 3 correct\n",
            "3  predicted 0 real 0 correct\n",
            "4  predicted 5 real 5 correct\n",
            "5  predicted 4 real 4 correct\n",
            "6  predicted 2 real 2 correct\n",
            "7  predicted 6 real 6 correct\n",
            "8  predicted 3 real 3 correct\n",
            "9  predicted 5 real 5 correct\n",
            "Correct: 86  of  104  accuracy= 0.8269230769230769\n",
            "[[25  0  0  0  0  0  1  0]\n",
            " [ 0  6  2  0  0  0  0  0]\n",
            " [ 0  0  8  0  1  0  0  0]\n",
            " [ 1  0  0  9  1  0  1  0]\n",
            " [ 1  0  1  1 11  0  1  1]\n",
            " [ 0  1  0  0  0 11  1  0]\n",
            " [ 1  1  0  1  0  0  7  0]\n",
            " [ 0  1  0  0  0  0  0  9]]\n",
            "              precision    recall  f1-score   support\n",
            "\n",
            "         a25       0.89      0.96      0.93        26\n",
            "         a28       0.67      0.75      0.71         8\n",
            "         a29       0.73      0.89      0.80         9\n",
            "         a32       0.82      0.75      0.78        12\n",
            "         a37       0.85      0.69      0.76        16\n",
            "         a40       1.00      0.85      0.92        13\n",
            "         a41       0.64      0.70      0.67        10\n",
            "         a42       0.90      0.90      0.90        10\n",
            "\n",
            "    accuracy                           0.83       104\n",
            "   macro avg       0.81      0.81      0.81       104\n",
            "weighted avg       0.83      0.83      0.83       104\n",
            "\n",
            "Accuracy: 0.83\n",
            "Cohen's Kappa: 0.80\n",
            "MSE= 2.0961538461538463\n",
            "R2= 0.6318942702667597 \n",
            "\n",
            "Number of samples =  8000 \n",
            "\n",
            "0  predicted 6 real 6 correct\n",
            "1  predicted 6 real 6 correct\n",
            "2  predicted 6 real 6 correct\n",
            "3  predicted 0 real 0 correct\n",
            "4  predicted 6 real 6 correct\n",
            "5  predicted 2 real 2 correct\n",
            "6  predicted 4 real 4 correct\n",
            "7  predicted 3 real 3 correct\n",
            "8  predicted 6 real 6 correct\n",
            "9  predicted 0 real 0 correct\n",
            "Correct: 84  of  104  accuracy= 0.8076923076923077\n",
            "[[25  0  0  0  0  0  1  0]\n",
            " [ 0  6  2  0  0  0  0  0]\n",
            " [ 0  0  7  0  2  0  0  0]\n",
            " [ 1  1  0  9  0  0  1  0]\n",
            " [ 1  0  1  1  9  1  2  1]\n",
            " [ 0  1  0  0  0 11  1  0]\n",
            " [ 1  0  0  0  0  0  9  0]\n",
            " [ 0  1  0  0  1  0  0  8]]\n",
            "              precision    recall  f1-score   support\n",
            "\n",
            "         a25       0.89      0.96      0.93        26\n",
            "         a28       0.67      0.75      0.71         8\n",
            "         a29       0.70      0.78      0.74         9\n",
            "         a32       0.90      0.75      0.82        12\n",
            "         a37       0.75      0.56      0.64        16\n",
            "         a40       0.92      0.85      0.88        13\n",
            "         a41       0.64      0.90      0.75        10\n",
            "         a42       0.89      0.80      0.84        10\n",
            "\n",
            "    accuracy                           0.81       104\n",
            "   macro avg       0.79      0.79      0.79       104\n",
            "weighted avg       0.82      0.81      0.81       104\n",
            "\n",
            "Accuracy: 0.81\n",
            "Cohen's Kappa: 0.77\n",
            "MSE= 1.9711538461538463\n",
            "R2= 0.6538455293792924 \n",
            "\n"
          ]
        }
      ]
    },
    {
      "cell_type": "code",
      "source": [
        "#--------------------3--------------------#\n",
        "model = GaussianNB()\n",
        "model.fit(samples, labels_encoded)\n",
        "Classification(samples, labels_encoded)"
      ],
      "metadata": {
        "colab": {
          "base_uri": "https://localhost:8080/"
        },
        "id": "SXCyHmdBEaGu",
        "outputId": "938e6a47-7a47-4b44-85c7-38926debda1b"
      },
      "execution_count": 131,
      "outputs": [
        {
          "output_type": "stream",
          "name": "stdout",
          "text": [
            "0  predicted 2 real 2 correct\n",
            "1  predicted 2 real 1 wrong\n",
            "2  predicted 4 real 5 wrong\n",
            "3  predicted 3 real 0 wrong\n",
            "4  predicted 3 real 3 correct\n",
            "5  predicted 1 real 1 correct\n",
            "6  predicted 3 real 6 wrong\n",
            "7  predicted 1 real 7 wrong\n",
            "8  predicted 2 real 2 correct\n",
            "9  predicted 6 real 5 wrong\n",
            "Correct: 50  of  104  accuracy= 0.4807692307692308\n",
            "[[17  1  2  4  1  1  0  0]\n",
            " [ 0  2  6  0  0  0  0  0]\n",
            " [ 0  1  7  0  1  0  0  0]\n",
            " [ 1  0  0  9  2  0  0  0]\n",
            " [ 0  0  4  3  5  1  1  2]\n",
            " [ 2  1  0  0  4  3  0  3]\n",
            " [ 1  3  0  1  1  0  3  1]\n",
            " [ 0  2  1  1  2  0  0  4]]\n",
            "              precision    recall  f1-score   support\n",
            "\n",
            "         a25       0.81      0.65      0.72        26\n",
            "         a28       0.20      0.25      0.22         8\n",
            "         a29       0.35      0.78      0.48         9\n",
            "         a32       0.50      0.75      0.60        12\n",
            "         a37       0.31      0.31      0.31        16\n",
            "         a40       0.60      0.23      0.33        13\n",
            "         a41       0.75      0.30      0.43        10\n",
            "         a42       0.40      0.40      0.40        10\n",
            "\n",
            "    accuracy                           0.48       104\n",
            "   macro avg       0.49      0.46      0.44       104\n",
            "weighted avg       0.54      0.48      0.48       104\n",
            "\n",
            "Accuracy: 0.48\n",
            "Cohen's Kappa: 0.40\n",
            "MSE= 4.6923076923076925\n",
            "R2= 0.1759835040833888 \n",
            "\n"
          ]
        }
      ]
    },
    {
      "cell_type": "code",
      "source": [
        "#--------------------4--------------------#\n",
        "model = DecisionTreeClassifier()\n",
        "model.fit(samples, labels_encoded)\n",
        "Classification(samples, labels_encoded)"
      ],
      "metadata": {
        "colab": {
          "base_uri": "https://localhost:8080/"
        },
        "id": "oLbkaMnzE2AP",
        "outputId": "9684b8ca-8690-44a7-fe68-7eacf622edf6"
      },
      "execution_count": 132,
      "outputs": [
        {
          "output_type": "stream",
          "name": "stdout",
          "text": [
            "0  predicted 0 real 0 correct\n",
            "1  predicted 4 real 4 correct\n",
            "2  predicted 3 real 3 correct\n",
            "3  predicted 5 real 5 correct\n",
            "4  predicted 7 real 7 correct\n",
            "5  predicted 2 real 2 correct\n",
            "6  predicted 0 real 0 correct\n",
            "7  predicted 0 real 0 correct\n",
            "8  predicted 4 real 4 correct\n",
            "9  predicted 1 real 1 correct\n",
            "Correct: 51  of  104  accuracy= 0.49038461538461536\n",
            "[[18  1  0  5  1  0  1  0]\n",
            " [ 0  4  2  0  1  0  1  0]\n",
            " [ 1  0  5  0  1  1  0  1]\n",
            " [ 2  0  1  6  1  0  1  1]\n",
            " [ 2  1  1  1  4  2  2  3]\n",
            " [ 0  2  0  0  0 10  1  0]\n",
            " [ 1  0  1  0  2  3  2  1]\n",
            " [ 1  0  0  3  3  0  1  2]]\n",
            "              precision    recall  f1-score   support\n",
            "\n",
            "         a25       0.72      0.69      0.71        26\n",
            "         a28       0.50      0.50      0.50         8\n",
            "         a29       0.50      0.56      0.53         9\n",
            "         a32       0.40      0.50      0.44        12\n",
            "         a37       0.31      0.25      0.28        16\n",
            "         a40       0.62      0.77      0.69        13\n",
            "         a41       0.22      0.20      0.21        10\n",
            "         a42       0.25      0.20      0.22        10\n",
            "\n",
            "    accuracy                           0.49       104\n",
            "   macro avg       0.44      0.46      0.45       104\n",
            "weighted avg       0.48      0.49      0.48       104\n",
            "\n",
            "Accuracy: 0.49\n",
            "Cohen's Kappa: 0.40\n",
            "MSE= 5.0576923076923075\n",
            "R2= 0.11181828513906245 \n",
            "\n"
          ]
        }
      ]
    },
    {
      "cell_type": "code",
      "source": [
        "#--------------------5--------------------#\n",
        "model = RandomForestClassifier()\n",
        "model.fit(samples, labels_encoded)\n",
        "Classification(samples, labels_encoded)"
      ],
      "metadata": {
        "colab": {
          "base_uri": "https://localhost:8080/"
        },
        "id": "_HBX1stzGg5T",
        "outputId": "939edaba-7b14-48de-92ca-6eadfdb46ebb"
      },
      "execution_count": 133,
      "outputs": [
        {
          "output_type": "stream",
          "name": "stdout",
          "text": [
            "0  predicted 0 real 0 correct\n",
            "1  predicted 0 real 0 correct\n",
            "2  predicted 0 real 0 correct\n",
            "3  predicted 4 real 4 correct\n",
            "4  predicted 4 real 4 correct\n",
            "5  predicted 2 real 2 correct\n",
            "6  predicted 6 real 6 correct\n",
            "7  predicted 5 real 5 correct\n",
            "8  predicted 0 real 0 correct\n",
            "9  predicted 0 real 0 correct\n",
            "Correct: 84  of  104  accuracy= 0.8076923076923077\n",
            "[[26  0  0  0  0  0  0  0]\n",
            " [ 0  5  2  0  1  0  0  0]\n",
            " [ 1  0  8  0  0  0  0  0]\n",
            " [ 1  0  0  8  2  0  0  1]\n",
            " [ 0  0  0  0 13  0  1  2]\n",
            " [ 0  0  0  1  0 11  1  0]\n",
            " [ 0  0  0  0  0  0  9  1]\n",
            " [ 2  0  0  0  4  0  0  4]]\n",
            "              precision    recall  f1-score   support\n",
            "\n",
            "         a25       0.87      1.00      0.93        26\n",
            "         a28       1.00      0.62      0.77         8\n",
            "         a29       0.80      0.89      0.84         9\n",
            "         a32       0.89      0.67      0.76        12\n",
            "         a37       0.65      0.81      0.72        16\n",
            "         a40       1.00      0.85      0.92        13\n",
            "         a41       0.82      0.90      0.86        10\n",
            "         a42       0.50      0.40      0.44        10\n",
            "\n",
            "    accuracy                           0.81       104\n",
            "   macro avg       0.82      0.77      0.78       104\n",
            "weighted avg       0.82      0.81      0.80       104\n",
            "\n",
            "Accuracy: 0.81\n",
            "Cohen's Kappa: 0.77\n",
            "MSE= 1.9615384615384615\n",
            "R2= 0.6555340877725642 \n",
            "\n"
          ]
        }
      ]
    },
    {
      "cell_type": "code",
      "source": [
        "#--------------------6--------------------#\n",
        "# TOP 3 CLASSIFAIER\n",
        "model = LogisticRegression(max_iter=1000)\n",
        "model.fit(samples, labels_encoded)\n",
        "Classification(samples, labels_encoded)\n",
        "sklearn.model_selection.cross_validate(model, samples, labels_encoded, cv=10)"
      ],
      "metadata": {
        "colab": {
          "base_uri": "https://localhost:8080/"
        },
        "id": "O330GZH0GhOk",
        "outputId": "fd6f1cab-159d-49d0-f182-959df5c2ac41"
      },
      "execution_count": 134,
      "outputs": [
        {
          "output_type": "stream",
          "name": "stdout",
          "text": [
            "0  predicted 0 real 0 correct\n",
            "1  predicted 0 real 0 correct\n",
            "2  predicted 0 real 0 correct\n",
            "3  predicted 0 real 0 correct\n",
            "4  predicted 4 real 4 correct\n",
            "5  predicted 6 real 6 correct\n",
            "6  predicted 0 real 0 correct\n",
            "7  predicted 2 real 2 correct\n",
            "8  predicted 4 real 4 correct\n",
            "9  predicted 5 real 5 correct\n",
            "Correct: 97  of  104  accuracy= 0.9326923076923077\n",
            "[[26  0  0  0  0  0  0  0]\n",
            " [ 0  6  2  0  0  0  0  0]\n",
            " [ 0  0  9  0  0  0  0  0]\n",
            " [ 0  0  0 11  0  0  1  0]\n",
            " [ 0  0  1  0 14  0  0  1]\n",
            " [ 0  0  0  0  0 13  0  0]\n",
            " [ 0  0  0  0  1  0  9  0]\n",
            " [ 1  0  0  0  0  0  0  9]]\n",
            "              precision    recall  f1-score   support\n",
            "\n",
            "         a25       0.96      1.00      0.98        26\n",
            "         a28       1.00      0.75      0.86         8\n",
            "         a29       0.75      1.00      0.86         9\n",
            "         a32       1.00      0.92      0.96        12\n",
            "         a37       0.93      0.88      0.90        16\n",
            "         a40       1.00      1.00      1.00        13\n",
            "         a41       0.90      0.90      0.90        10\n",
            "         a42       0.90      0.90      0.90        10\n",
            "\n",
            "    accuracy                           0.93       104\n",
            "   macro avg       0.93      0.92      0.92       104\n",
            "weighted avg       0.94      0.93      0.93       104\n",
            "\n",
            "Accuracy: 0.93\n",
            "Cohen's Kappa: 0.92\n",
            "MSE= 0.7403846153846154\n",
            "R2= 0.8699810037180757 \n",
            "\n"
          ]
        },
        {
          "output_type": "execute_result",
          "data": {
            "text/plain": [
              "{'fit_time': array([11.52529049, 12.50741768, 11.9112215 , 11.76411796, 10.59855771,\n",
              "        11.39388514, 11.32509136, 11.36821461, 10.5798223 , 11.0445466 ]),\n",
              " 'score_time': array([0.1060605 , 0.08824372, 0.05040812, 0.13627434, 0.13396096,\n",
              "        0.10211539, 0.04809809, 0.09540915, 0.12755108, 0.06573749]),\n",
              " 'test_score': array([0.88095238, 0.95238095, 0.92857143, 0.97619048, 0.85714286,\n",
              "        0.85714286, 0.82926829, 0.95121951, 0.95121951, 0.90243902])}"
            ]
          },
          "metadata": {},
          "execution_count": 134
        }
      ]
    },
    {
      "cell_type": "code",
      "source": [
        "#--------------------6.5--------------------#\n",
        "# TOP 3 CLASSIFAIER\n",
        "\n",
        "model = LogisticRegression(max_iter=1000)\n",
        "BS = SelectFromModel(model)\n",
        "BS_samples = BS.fit_transform(samples,labels_encoded)\n",
        "model.fit(BS_samples, labels_encoded)\n",
        "Classification(BS_samples, labels_encoded)\n",
        "sklearn.model_selection.cross_validate(model, BS_samples, labels_encoded, cv=10)"
      ],
      "metadata": {
        "colab": {
          "base_uri": "https://localhost:8080/"
        },
        "id": "7jZmnK8UiS9g",
        "outputId": "d2ca2784-5e49-4d25-fec9-4ddf2e357e30"
      },
      "execution_count": 135,
      "outputs": [
        {
          "output_type": "stream",
          "name": "stdout",
          "text": [
            "0  predicted 1 real 1 correct\n",
            "1  predicted 5 real 5 correct\n",
            "2  predicted 4 real 4 correct\n",
            "3  predicted 5 real 5 correct\n",
            "4  predicted 5 real 5 correct\n",
            "5  predicted 6 real 6 correct\n",
            "6  predicted 1 real 1 correct\n",
            "7  predicted 4 real 4 correct\n",
            "8  predicted 0 real 0 correct\n",
            "9  predicted 0 real 0 correct\n",
            "Correct: 96  of  104  accuracy= 0.9230769230769231\n",
            "[[26  0  0  0  0  0  0  0]\n",
            " [ 0  6  2  0  0  0  0  0]\n",
            " [ 0  0  9  0  0  0  0  0]\n",
            " [ 0  0  0 11  0  0  1  0]\n",
            " [ 0  0  1  0 14  0  0  1]\n",
            " [ 0  0  0  0  0 13  0  0]\n",
            " [ 0  0  0  0  2  0  8  0]\n",
            " [ 1  0  0  0  0  0  0  9]]\n",
            "              precision    recall  f1-score   support\n",
            "\n",
            "         a25       0.96      1.00      0.98        26\n",
            "         a28       1.00      0.75      0.86         8\n",
            "         a29       0.75      1.00      0.86         9\n",
            "         a32       1.00      0.92      0.96        12\n",
            "         a37       0.88      0.88      0.88        16\n",
            "         a40       1.00      1.00      1.00        13\n",
            "         a41       0.89      0.80      0.84        10\n",
            "         a42       0.90      0.90      0.90        10\n",
            "\n",
            "    accuracy                           0.92       104\n",
            "   macro avg       0.92      0.91      0.91       104\n",
            "weighted avg       0.93      0.92      0.92       104\n",
            "\n",
            "Accuracy: 0.92\n",
            "Cohen's Kappa: 0.91\n",
            "MSE= 0.7788461538461539\n",
            "R2= 0.8632267701449887 \n",
            "\n"
          ]
        },
        {
          "output_type": "execute_result",
          "data": {
            "text/plain": [
              "{'fit_time': array([3.27628279, 2.9109993 , 3.57333565, 5.19638133, 3.53063583,\n",
              "        3.05901599, 3.37710214, 4.86342788, 3.41300321, 3.25388432]),\n",
              " 'score_time': array([0.02144933, 0.04166555, 0.02130294, 0.04686165, 0.04284835,\n",
              "        0.03952575, 0.03991556, 0.02048802, 0.02073956, 0.02046776]),\n",
              " 'test_score': array([0.9047619 , 0.95238095, 0.95238095, 0.95238095, 0.88095238,\n",
              "        0.83333333, 0.87804878, 0.95121951, 0.92682927, 0.95121951])}"
            ]
          },
          "metadata": {},
          "execution_count": 135
        }
      ]
    },
    {
      "cell_type": "code",
      "source": [
        "#--------------------7--------------------#\n",
        "# TOP 3 CLASSIFAIER\n",
        "model = SVC(kernel='linear', C=1, class_weight='balanced')\n",
        "model.fit(samples, labels_encoded)\n",
        "Classification(samples, labels_encoded)\n",
        "sklearn.model_selection.cross_validate(model, samples, labels_encoded, cv=10)"
      ],
      "metadata": {
        "colab": {
          "base_uri": "https://localhost:8080/"
        },
        "id": "7oUleN_ZiY3F",
        "outputId": "2b899ac9-8e61-447b-87d0-27d95ea04d72"
      },
      "execution_count": 136,
      "outputs": [
        {
          "output_type": "stream",
          "name": "stdout",
          "text": [
            "0  predicted 6 real 6 correct\n",
            "1  predicted 2 real 2 correct\n",
            "2  predicted 4 real 4 correct\n",
            "3  predicted 0 real 0 correct\n",
            "4  predicted 0 real 0 correct\n",
            "5  predicted 6 real 6 correct\n",
            "6  predicted 0 real 0 correct\n",
            "7  predicted 5 real 5 correct\n",
            "8  predicted 4 real 4 correct\n",
            "9  predicted 4 real 4 correct\n",
            "Correct: 93  of  104  accuracy= 0.8942307692307693\n",
            "[[26  0  0  0  0  0  0  0]\n",
            " [ 0  6  2  0  0  0  0  0]\n",
            " [ 0  0  9  0  0  0  0  0]\n",
            " [ 0  0  0 11  0  0  1  0]\n",
            " [ 0  0  1  0 13  0  0  2]\n",
            " [ 0  0  0  0  0 12  1  0]\n",
            " [ 0  1  0  0  1  0  8  0]\n",
            " [ 1  0  0  0  1  0  0  8]]\n",
            "              precision    recall  f1-score   support\n",
            "\n",
            "         a25       0.96      1.00      0.98        26\n",
            "         a28       0.86      0.75      0.80         8\n",
            "         a29       0.75      1.00      0.86         9\n",
            "         a32       1.00      0.92      0.96        12\n",
            "         a37       0.87      0.81      0.84        16\n",
            "         a40       1.00      0.92      0.96        13\n",
            "         a41       0.80      0.80      0.80        10\n",
            "         a42       0.80      0.80      0.80        10\n",
            "\n",
            "    accuracy                           0.89       104\n",
            "   macro avg       0.88      0.88      0.87       104\n",
            "weighted avg       0.90      0.89      0.89       104\n",
            "\n",
            "Accuracy: 0.89\n",
            "Cohen's Kappa: 0.88\n",
            "MSE= 1.1634615384615385\n",
            "R2= 0.795684434414119 \n",
            "\n"
          ]
        },
        {
          "output_type": "execute_result",
          "data": {
            "text/plain": [
              "{'fit_time': array([0.73039675, 0.87284541, 0.86540365, 0.88100863, 0.86744618,\n",
              "        0.6687417 , 0.67347527, 0.6709559 , 0.68483305, 0.68086004]),\n",
              " 'score_time': array([0.09690285, 0.09197044, 0.09171033, 0.09403539, 0.0710628 ,\n",
              "        0.07163906, 0.0763967 , 0.06951451, 0.07226515, 0.07107329]),\n",
              " 'test_score': array([0.78571429, 0.9047619 , 0.88095238, 0.95238095, 0.85714286,\n",
              "        0.83333333, 0.90243902, 0.87804878, 0.95121951, 0.92682927])}"
            ]
          },
          "metadata": {},
          "execution_count": 136
        }
      ]
    },
    {
      "cell_type": "code",
      "source": [
        "#--------------------7.5--------------------#\n",
        "# TOP 3 CLASSIFAIER\n",
        "model = SVC(kernel='linear', C=1, class_weight='balanced')\n",
        "BS = SelectFromModel(model)\n",
        "BS_samples = BS.fit_transform(samples,labels_encoded)\n",
        "model.fit(BS_samples, labels_encoded)\n",
        "Classification(BS_samples, labels_encoded)\n",
        "sklearn.model_selection.cross_validate(model, BS_samples, labels_encoded, cv=10)\n"
      ],
      "metadata": {
        "id": "6IqWF87_-ldV",
        "colab": {
          "base_uri": "https://localhost:8080/"
        },
        "outputId": "37c26343-86f7-4666-c025-1956bce08148"
      },
      "execution_count": 137,
      "outputs": [
        {
          "output_type": "stream",
          "name": "stdout",
          "text": [
            "0  predicted 1 real 1 correct\n",
            "1  predicted 1 real 1 correct\n",
            "2  predicted 0 real 0 correct\n",
            "3  predicted 5 real 5 correct\n",
            "4  predicted 0 real 0 correct\n",
            "5  predicted 0 real 0 correct\n",
            "6  predicted 7 real 7 correct\n",
            "7  predicted 7 real 7 correct\n",
            "8  predicted 0 real 0 correct\n",
            "9  predicted 4 real 4 correct\n",
            "Correct: 92  of  104  accuracy= 0.8846153846153846\n",
            "[[26  0  0  0  0  0  0  0]\n",
            " [ 0  5  2  0  1  0  0  0]\n",
            " [ 0  0  9  0  0  0  0  0]\n",
            " [ 0  0  0 11  0  0  1  0]\n",
            " [ 0  0  1  0 14  0  0  1]\n",
            " [ 0  0  0  1  0 11  1  0]\n",
            " [ 0  1  0  0  1  0  8  0]\n",
            " [ 2  0  0  0  0  0  0  8]]\n",
            "              precision    recall  f1-score   support\n",
            "\n",
            "         a25       0.93      1.00      0.96        26\n",
            "         a28       0.83      0.62      0.71         8\n",
            "         a29       0.75      1.00      0.86         9\n",
            "         a32       0.92      0.92      0.92        12\n",
            "         a37       0.88      0.88      0.88        16\n",
            "         a40       1.00      0.85      0.92        13\n",
            "         a41       0.80      0.80      0.80        10\n",
            "         a42       0.89      0.80      0.84        10\n",
            "\n",
            "    accuracy                           0.88       104\n",
            "   macro avg       0.87      0.86      0.86       104\n",
            "weighted avg       0.89      0.88      0.88       104\n",
            "\n",
            "Accuracy: 0.88\n",
            "Cohen's Kappa: 0.86\n",
            "MSE= 1.5865384615384615\n",
            "R2= 0.7213878651101622 \n",
            "\n"
          ]
        },
        {
          "output_type": "execute_result",
          "data": {
            "text/plain": [
              "{'fit_time': array([0.31471992, 0.31078243, 0.3328743 , 0.30869079, 0.31366849,\n",
              "        0.31830215, 0.32345629, 0.32068634, 0.31630468, 0.32786393]),\n",
              " 'score_time': array([0.03268433, 0.03339887, 0.03178382, 0.03222275, 0.03133535,\n",
              "        0.03141785, 0.03171611, 0.03876591, 0.03277183, 0.03221083]),\n",
              " 'test_score': array([0.76190476, 0.88095238, 0.92857143, 0.95238095, 0.85714286,\n",
              "        0.85714286, 0.85365854, 0.90243902, 0.90243902, 0.87804878])}"
            ]
          },
          "metadata": {},
          "execution_count": 137
        }
      ]
    },
    {
      "cell_type": "code",
      "source": [],
      "metadata": {
        "id": "UwIyCEBGX2VC"
      },
      "execution_count": 137,
      "outputs": []
    },
    {
      "cell_type": "code",
      "source": [],
      "metadata": {
        "id": "g4WLYo3abqN9"
      },
      "execution_count": 137,
      "outputs": []
    },
    {
      "cell_type": "code",
      "source": [],
      "metadata": {
        "id": "c9M7vJl4bxSP"
      },
      "execution_count": 137,
      "outputs": []
    },
    {
      "cell_type": "code",
      "source": [],
      "metadata": {
        "id": "pdR04uSadHIv"
      },
      "execution_count": 137,
      "outputs": []
    },
    {
      "cell_type": "code",
      "source": [],
      "metadata": {
        "id": "S94bXfXHcC-V"
      },
      "execution_count": 137,
      "outputs": []
    }
  ]
}